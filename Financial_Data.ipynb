{
 "cells": [
  {
   "cell_type": "code",
   "execution_count": 1,
   "metadata": {},
   "outputs": [],
   "source": [
    "import findspark\n",
    "findspark.init()\n",
    "findspark.find()\n",
    "import pyspark\n",
    "from pyspark.sql import *\n",
    "from pyspark.sql.functions import length, col\n",
    "from pyspark import SparkContext\n",
    "sc = SparkContext()\n",
    "sql = SQLContext(sc)"
   ]
  },
  {
   "cell_type": "code",
   "execution_count": 2,
   "metadata": {},
   "outputs": [],
   "source": [
    "import pandas as pd\n",
    "import yfinance as yf\n",
    "from functools import reduce\n",
    "import pandas_datareader as pdr\n",
    "from pyspark.sql.window import Window\n",
    "from pyspark.sql.functions import lit, DataFrame, udf, lead,lag, when, avg, abs, max, min"
   ]
  },
  {
   "cell_type": "markdown",
   "metadata": {},
   "source": [
    "##  Data import and Feature Generation"
   ]
  },
  {
   "cell_type": "code",
   "execution_count": 3,
   "metadata": {
    "scrolled": true
   },
   "outputs": [],
   "source": [
    "class STOCK():\n",
    "    def __init__(self,*args, start_date, end_date):\n",
    "        # Combine individual stock dataframes in one Spark dataframe\n",
    "        self.df_complete = reduce(DataFrame.union, self.complete_df(args,start_date, end_date))\n",
    "    \n",
    "    # Import Stocks data as spark dataframe from Yahoo finance\n",
    "    def complete_df(self, args, start_date, end_date):\n",
    "        dfs = []\n",
    "        for symbol in args:\n",
    "            stock = sql.createDataFrame(pdr.get_data_yahoo(symbol, start=start_date, end=end_date).reset_index()) \\\n",
    "                       .withColumn(\"Symbol\", lit(symbol)).withColumnRenamed('Adj Close', 'Adj_close')\n",
    "            dfs.append(stock)\n",
    "        return dfs \n",
    "    \n",
    "    #Generate Features:\n",
    "    def add_features(self, symbol):\n",
    "        \"\"\" T_trend_udf: returns user defined function to create Today's Trend feature by subtracting the \n",
    "                         open price from the close price of the trading day.\n",
    "            F_trend: return a window function that accesses the next day close's price to substract today's close \n",
    "                     price from it and create Future Trend feature\n",
    "        \"\"\"\n",
    "        \n",
    "        symbol_df = self.df_complete.filter(self.df_complete[\"Symbol\"] == symbol)\n",
    "        T_trend_udf = udf(lambda Close_price, Open_price: \"Uptrend\" if Close_price - Open_price >= 0 else \"Downtrend\")\n",
    "        F_trend = lead(symbol_df[\"Close\"],1).over(Window().orderBy(\"Date\")) \n",
    "        \n",
    "        # Add all created features to the dataframe:\n",
    "        symbol_df = symbol_df.withColumn(\"today_trend\", T_trend_udf(symbol_df[\"Close\"], symbol_df[\"Open\"])) \\\n",
    "                             .withColumn(\"tomorrow_trend\", when((F_trend - symbol_df[\"Close\"]) >= 0, \"Uptrend\") \\\n",
    "                                        .otherwise(\"Downtrend\")) \\\n",
    "                             .withColumn(\"RSI\", self.RSI(symbol_df)) \\\n",
    "                             .withColumn(\"SMA\", self.SMA(symbol_df)) \\\n",
    "                             .withColumn(\"K\", self.K(symbol_df))\n",
    "        \n",
    "        return symbol_df.na.drop().filter(symbol_df[\"RSI\"] > 0)\n",
    "    \n",
    "    \n",
    "    \n",
    "    def RSI(self, symbol_df):\n",
    "        \"\"\" A function returns the 14-days period RSI feature to be added later to the dataframe.\n",
    "        RSI = 100 - 100/[1 + (Average of 14 days gains) / (Average of 14 days losses)]\n",
    "            \n",
    "        \"\"\"\n",
    "        \n",
    "        # Creating gain_loss column for each day, close_price_today - close_price_yesterday:\n",
    "        gain_loss = symbol_df['close'] - lag(symbol_df[\"Close\"],1).over(Window().orderBy(\"Date\"))\n",
    "    \n",
    "        # Calculating the Average of 14 days gains \n",
    "        gain = when(gain_loss > 0, gain_loss).otherwise(0) \n",
    "        Avg_gain = avg(gain).over(Window.orderBy(\"Date\").rowsBetween(-14, -1))\n",
    "\n",
    "        # Calculating the Average of 14 days loss\n",
    "        loss = when(gain_loss < 0, gain_loss).otherwise(0) \n",
    "        Avg_loss = avg(abs(loss)).over(Window.orderBy(\"Date\").rowsBetween(-14, -1))\n",
    "\n",
    "        # Calculating RS:\n",
    "        RS = Avg_gain / Avg_loss\n",
    "\n",
    "        # Calculating 14-days RSI:\n",
    "        RSI = 100 - (100/(1+RS))\n",
    "\n",
    "        return RSI\n",
    "    \n",
    "    def SMA(self, symbol_df):\n",
    "        \"\"\" A function returns the 14-days period SMA feature to be added later to the dataframe.\n",
    "        SMA = sum(14_close_prices) / 14 \n",
    "    \n",
    "        \"\"\"\n",
    "        acc = lag(symbol_df[\"Close\"],1).over(Window().orderBy(\"Date\"))\n",
    "        SMA = avg(acc).over(Window().rowsBetween(-14,-1))\n",
    "        return SMA\n",
    "    \n",
    "    def K(self, symbol_df):\n",
    "        \"\"\" A function returns Stochastic Oscillator indicator to be added later to the dataframe.\n",
    "        %K = 100 * [(Current Close_price - Lowest Low over the past 14 days) \n",
    "                 /(Highest High over the past 14 days - Lowest Low over the past 14 days)]\n",
    "        \"\"\"\n",
    "        HH_14 = max('High').over(Window().orderBy(\"Date\").rowsBetween(-14,0))\n",
    "        LL_14 = min(\"Low\").over(Window().orderBy(\"Date\").rowsBetween(-14,0))\n",
    "        K = 100*((symbol_df[\"Close\"] - LL_14) / (HH_14 - LL_14))\n",
    "        return K\n",
    "    \n",
    "    \n",
    "    #Save dataframe as CSV file:\n",
    "    def save_df(self, df, file_name):\n",
    "        df.coalesce(1).write.csv(file_name, header=True)\n",
    "        \n",
    "    "
   ]
  },
  {
   "cell_type": "code",
   "execution_count": 4,
   "metadata": {},
   "outputs": [
    {
     "name": "stdout",
     "output_type": "stream",
     "text": [
      "+-------------------+------------------+------------------+------------------+------------------+---------+------------------+------+\n",
      "|               Date|              High|               Low|              Open|             Close|   Volume|         Adj_close|Symbol|\n",
      "+-------------------+------------------+------------------+------------------+------------------+---------+------------------+------+\n",
      "|2019-05-01 00:00:00|215.30999755859375|209.22999572753906| 209.8800048828125|210.52000427246094|6.48273E7|207.23912048339844|  AAPL|\n",
      "|2019-05-02 00:00:00|212.64999389648438| 208.1300048828125|209.83999633789062|209.14999389648438|3.19963E7| 205.8904571533203|  AAPL|\n",
      "+-------------------+------------------+------------------+------------------+------------------+---------+------------------+------+\n",
      "only showing top 2 rows\n",
      "\n"
     ]
    }
   ],
   "source": [
    "#Example: Create dataframe of two stocks for one year time period\n",
    "Example = STOCK('AAPL', 'NFLX', start_date = \"2019-05-01\", end_date = \"2020-05-01\").df_complete\n",
    "Example.show(2)"
   ]
  },
  {
   "cell_type": "code",
   "execution_count": 5,
   "metadata": {},
   "outputs": [],
   "source": [
    "# Stocks spark datafame:\n",
    "stock = STOCK('AAPL', 'AMZN', 'NFLX', start_date = \"2016-01-01\", end_date = \"2020-04-01\")\n",
    "stock_df = stock.df_complete\n",
    "\n",
    "#create features for each stock dataframe\n",
    "AAPL_df = stock.add_features(\"AAPL\") \n",
    "AMZN_df = stock.add_features(\"AMZN\") \n",
    "NFLX_df = stock.add_features(\"NFLX\")"
   ]
  },
  {
   "cell_type": "code",
   "execution_count": 6,
   "metadata": {},
   "outputs": [
    {
     "name": "stdout",
     "output_type": "stream",
     "text": [
      "Number of records:1064\n",
      "root\n",
      " |-- Date: timestamp (nullable = true)\n",
      " |-- High: double (nullable = true)\n",
      " |-- Low: double (nullable = true)\n",
      " |-- Open: double (nullable = true)\n",
      " |-- Close: double (nullable = true)\n",
      " |-- Volume: double (nullable = true)\n",
      " |-- Adj_close: double (nullable = true)\n",
      " |-- Symbol: string (nullable = false)\n",
      " |-- today_trend: string (nullable = true)\n",
      " |-- tomorrow_trend: string (nullable = false)\n",
      " |-- RSI: double (nullable = true)\n",
      " |-- SMA: double (nullable = true)\n",
      " |-- K: double (nullable = true)\n",
      "\n",
      "+-------------------+------------------+-----------------+------------------+------------------+----------+-----------------+------+-----------+--------------+------------------+------------------+------------------+\n",
      "|               Date|              High|              Low|              Open|             Close|    Volume|        Adj_close|Symbol|today_trend|tomorrow_trend|               RSI|               SMA|                 K|\n",
      "+-------------------+------------------+-----------------+------------------+------------------+----------+-----------------+------+-----------+--------------+------------------+------------------+------------------+\n",
      "|2016-01-11 00:00:00| 99.05999755859375|97.33999633789062| 98.97000122070312| 98.52999877929688| 4.97394E7|91.60757446289062|  AAPL|  Downtrend|       Uptrend| 5.419786798639194|101.30249786376953|22.292981765581544|\n",
      "|2016-01-12 00:00:00|100.69000244140625|98.83999633789062|100.55000305175781| 99.95999908447266| 4.91542E7| 92.9371337890625|  AAPL|  Downtrend|     Downtrend|18.943544582262987|100.43399810791016| 37.47345504730711|\n",
      "|2016-01-13 00:00:00|101.19000244140625|97.30000305175781|100.31999969482422| 97.38999938964844| 6.24396E7|90.54768371582031|  AAPL|  Downtrend|       Uptrend| 28.28365109147647|100.11666488647461|10.191075064509702|\n",
      "|2016-01-14 00:00:00| 100.4800033569336|95.73999786376953| 97.95999908447266|  99.5199966430664| 6.31701E7|92.52801513671875|  AAPL|    Uptrend|     Downtrend| 23.43125066527999|100.09428405761719| 37.38870970419685|\n",
      "|2016-01-15 00:00:00| 97.70999908447266|95.36000061035156| 96.19999694824219| 97.12999725341797| 7.98339E7|90.30596160888672|  AAPL|    Uptrend|     Downtrend| 32.96317468414486|  99.7562484741211| 16.87318401826982|\n",
      "|2016-01-19 00:00:00|  98.6500015258789|             95.5| 98.41000366210938| 96.66000366210938| 5.30877E7|89.86897277832031|  AAPL|  Downtrend|       Uptrend| 28.92307379306891| 99.72999827067058|12.392786620555732|\n",
      "|2016-01-20 00:00:00| 98.19000244140625|93.41999816894531|  95.0999984741211| 96.79000091552734| 7.23344E7|89.98983764648438|  AAPL|    Uptrend|     Downtrend| 28.24236955240235| 99.46999816894531| 27.11184765762863|\n",
      "|2016-01-21 00:00:00| 97.87999725341797|94.94000244140625| 97.05999755859375| 96.30000305175781| 5.21615E7|89.53425598144531|  AAPL|  Downtrend|       Uptrend|28.706464035928775| 99.21454412286931|23.169789317006554|\n",
      "|2016-01-22 00:00:00|101.45999908447266|98.37000274658203| 98.62999725341797|101.41999816894531| 6.58005E7|94.29454040527344|  AAPL|    Uptrend|     Downtrend|28.023311351722697| 99.01249885559082| 64.36041676257116|\n",
      "|2016-01-25 00:00:00|101.52999877929688|99.20999908447266| 101.5199966430664| 99.44000244140625| 5.17945E7|92.45366668701172|  AAPL|  Downtrend|       Uptrend|  42.3570541081986| 98.80384533221905|48.431247986005616|\n",
      "|2016-01-26 00:00:00|100.87999725341797|98.06999969482422| 99.93000030517578| 99.98999786376953|  7.5077E7|92.96501922607422|  AAPL|    Uptrend|     Downtrend| 39.32827664001107| 98.99071339198521| 52.85598981110651|\n",
      "|2016-01-27 00:00:00| 96.62999725341797|93.33999633789062| 96.04000091552734| 93.41999816894531|1.333697E8|86.85660552978516|  AAPL|  Downtrend|       Uptrend|44.687492549412305| 98.56857081821987|0.8859554183448366|\n",
      "|2016-01-28 00:00:00|  94.5199966430664|92.38999938964844| 93.79000091552734| 94.08999633789062| 5.56788E7|87.47950744628906|  AAPL|    Uptrend|       Uptrend|37.931025759853966| 98.37428501674107|  18.5995302162441|\n",
      "|2016-01-29 00:00:00| 97.33999633789062| 94.3499984741211| 94.79000091552734| 97.33999633789062| 6.44165E7|90.50119018554688|  AAPL|    Uptrend|     Downtrend|45.560565919130624| 97.85428510393415| 54.15751946163516|\n",
      "|2016-02-01 00:00:00| 96.70999908447266| 95.4000015258789| 96.47000122070312| 96.43000030517578| 4.09435E7|89.65513610839844|  AAPL|  Downtrend|     Downtrend|50.648017825531795| 97.68571363176618|44.201325878674254|\n",
      "|2016-02-02 00:00:00| 96.04000091552734|94.27999877929688| 95.41999816894531|  94.4800033569336| 3.73572E7| 87.8421401977539|  AAPL|  Downtrend|       Uptrend| 46.33635554618518| 97.71285629272461|22.866565720476995|\n",
      "|2016-02-03 00:00:00| 96.83999633789062|94.08000183105469|              95.0|  96.3499984741211| 4.59643E7|89.58074951171875|  AAPL|    Uptrend|       Uptrend| 40.61000199755482| 97.56285640171596| 43.32603226382682|\n",
      "|2016-02-04 00:00:00| 97.33000183105469|95.19000244140625| 95.86000061035156|  96.5999984741211| 4.64717E7|  90.300537109375|  AAPL|    Uptrend|     Downtrend| 48.17415297655324| 97.17142813546317|46.061262205779975|\n",
      "|2016-02-05 00:00:00| 96.91999816894531|93.69000244140625|  96.5199966430664|  94.0199966430664| 4.64181E7|87.88877868652344|  AAPL|  Downtrend|       Uptrend| 44.51127345110152| 97.09714235578265|17.833669171400953|\n",
      "|2016-02-08 00:00:00| 95.69999694824219|93.04000091552734| 93.12999725341797| 95.01000213623047| 5.40214E7|88.81423950195312|  AAPL|    Uptrend|     Downtrend| 44.19558616557319| 96.88857105800084| 28.66523984180274|\n",
      "+-------------------+------------------+-----------------+------------------+------------------+----------+-----------------+------+-----------+--------------+------------------+------------------+------------------+\n",
      "only showing top 20 rows\n",
      "\n"
     ]
    }
   ],
   "source": [
    "print('Number of records:{}'.format(AAPL_df.count()))\n",
    "AAPL_df.printSchema()\n",
    "AAPL_df.show()"
   ]
  },
  {
   "cell_type": "code",
   "execution_count": 7,
   "metadata": {},
   "outputs": [],
   "source": [
    "# #Save data\n",
    "# stock.save_df(AAPL_df,\"AAPL_stock\")\n",
    "# stock.save_df(AMZN_df,\"AMZN_stock\")\n",
    "# stock.save_df(NFLX_df,\"NFLX_stock\")"
   ]
  }
 ],
 "metadata": {
  "kernelspec": {
   "display_name": "Python 3",
   "language": "python",
   "name": "python3"
  },
  "language_info": {
   "codemirror_mode": {
    "name": "ipython",
    "version": 3
   },
   "file_extension": ".py",
   "mimetype": "text/x-python",
   "name": "python",
   "nbconvert_exporter": "python",
   "pygments_lexer": "ipython3",
   "version": "3.7.4"
  }
 },
 "nbformat": 4,
 "nbformat_minor": 2
}
